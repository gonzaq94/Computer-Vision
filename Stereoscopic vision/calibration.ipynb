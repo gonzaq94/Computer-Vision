{
 "cells": [
  {
   "cell_type": "code",
   "execution_count": 13,
   "metadata": {},
   "outputs": [],
   "source": [
    "import cv2\n",
    "import numpy as np\n",
    "import matplotlib.pyplot as plt"
   ]
  },
  {
   "cell_type": "markdown",
   "metadata": {},
   "source": [
    "## Undistort capured image"
   ]
  },
  {
   "cell_type": "code",
   "execution_count": null,
   "metadata": {},
   "outputs": [],
   "source": [
    "cv2.undistort"
   ]
  },
  {
   "cell_type": "code",
   "execution_count": 41,
   "metadata": {},
   "outputs": [],
   "source": [
    "def create_line(event,x,y, flags, params):\n",
    "    \n",
    "    points = list()\n",
    "    \n",
    "    if( event == cv2.EVENT_LBUTTONDOWN ):\n",
    "        points.append([x,y])\n",
    "        \n",
    "    if len(points)%2==0:\n",
    "        i = 0\n",
    "        while i>=len(points)-1:\n",
    "            cv2.line(img, (points[i][0],points[i][1]), (points[i+1][0], points[i+1][1]))\n",
    "            i += 2"
   ]
  },
  {
   "cell_type": "code",
   "execution_count": 43,
   "metadata": {},
   "outputs": [],
   "source": []
  },
  {
   "cell_type": "code",
   "execution_count": 65,
   "metadata": {},
   "outputs": [
    {
     "ename": "TypeError",
     "evalue": "Required argument 'on_mouse' (pos 2) not found",
     "output_type": "error",
     "traceback": [
      "\u001b[0;31m---------------------------------------------------------------------------\u001b[0m",
      "\u001b[0;31mTypeError\u001b[0m                                 Traceback (most recent call last)",
      "\u001b[0;32m<ipython-input-65-225192bc553d>\u001b[0m in \u001b[0;36m<module>\u001b[0;34m()\u001b[0m\n\u001b[1;32m      5\u001b[0m \u001b[0;34m\u001b[0m\u001b[0m\n\u001b[1;32m      6\u001b[0m \u001b[0mcv2\u001b[0m\u001b[0;34m.\u001b[0m\u001b[0mnamedWindow\u001b[0m\u001b[0;34m(\u001b[0m\u001b[0;34m\"image\"\u001b[0m\u001b[0;34m)\u001b[0m\u001b[0;34m\u001b[0m\u001b[0;34m\u001b[0m\u001b[0m\n\u001b[0;32m----> 7\u001b[0;31m \u001b[0mcv2\u001b[0m\u001b[0;34m.\u001b[0m\u001b[0msetMouseCallback\u001b[0m\u001b[0;34m(\u001b[0m\u001b[0;34m'image'\u001b[0m\u001b[0;34m)\u001b[0m\u001b[0;34m\u001b[0m\u001b[0;34m\u001b[0m\u001b[0m\n\u001b[0m\u001b[1;32m      8\u001b[0m \u001b[0mcv2\u001b[0m\u001b[0;34m.\u001b[0m\u001b[0mimshow\u001b[0m\u001b[0;34m(\u001b[0m\u001b[0;34m'image'\u001b[0m\u001b[0;34m,\u001b[0m \u001b[0mimg\u001b[0m\u001b[0;34m)\u001b[0m\u001b[0;34m\u001b[0m\u001b[0;34m\u001b[0m\u001b[0m\n\u001b[1;32m      9\u001b[0m \u001b[0mcv2\u001b[0m\u001b[0;34m.\u001b[0m\u001b[0mwaitKey\u001b[0m\u001b[0;34m(\u001b[0m\u001b[0;36m0\u001b[0m\u001b[0;34m)\u001b[0m\u001b[0;34m\u001b[0m\u001b[0;34m\u001b[0m\u001b[0m\n",
      "\u001b[0;31mTypeError\u001b[0m: Required argument 'on_mouse' (pos 2) not found"
     ]
    }
   ],
   "source": [
    "# Using cv2.imread() method \n",
    "img = cv2.imread(\"img1.jpg\") \n",
    "  \n",
    "# Displaying the image \n",
    "\n",
    "cv2.namedWindow(\"image\")\n",
    "cv2.setMouseCallback('image')\n",
    "cv2.imshow('image', img) \n",
    "cv2.waitKey(0)\n",
    "cv2.destroyAllWindows()"
   ]
  },
  {
   "cell_type": "markdown",
   "metadata": {},
   "source": [
    "## chessboard calibration"
   ]
  },
  {
   "cell_type": "code",
   "execution_count": 5,
   "metadata": {},
   "outputs": [],
   "source": [
    "F = 771.641\n",
    "Cx = 637.112\n",
    "Cy = 366.454\n",
    "K1 = 0.0919277\n",
    "K2 = -0.205189\n",
    "K3 = 0.0733608\n",
    "TD1 = 0\n",
    "TD2 = 0"
   ]
  },
  {
   "cell_type": "code",
   "execution_count": 61,
   "metadata": {},
   "outputs": [],
   "source": [
    "A = np.array([F, 0, Cx,0, F, Cy, 0,0,1]).reshape(3,3)\n",
    "distCoeffs = np.array([K1,K2,0,0])"
   ]
  },
  {
   "cell_type": "code",
   "execution_count": 62,
   "metadata": {},
   "outputs": [],
   "source": [
    "img2 = cv2.undistort(img,A,distCoeffs)"
   ]
  },
  {
   "cell_type": "code",
   "execution_count": 66,
   "metadata": {},
   "outputs": [],
   "source": [
    "cv2.imshow('image', img2) \n",
    "cv2.waitKey(0)\n",
    "cv2.destroyAllWindows()"
   ]
  },
  {
   "cell_type": "markdown",
   "metadata": {},
   "source": [
    "## Projection of artificial object using camera’s projection matrix"
   ]
  },
  {
   "cell_type": "code",
   "execution_count": 69,
   "metadata": {},
   "outputs": [
    {
     "name": "stderr",
     "output_type": "stream",
     "text": [
      "/usr/lib/python3/dist-packages/ipykernel_launcher.py:32: DeprecationWarning: `as_dcm` is deprecated!\n",
      "as_dcm is renamed to as_matrix in scipy 1.4.0 and will be removed in scipy 1.6.0\n"
     ]
    }
   ],
   "source": [
    "import numpy as np\n",
    "import copy as cp\n",
    "from scipy.spatial.transform import Rotation as Rot\n",
    "\n",
    "###\n",
    "# Generate an articial 3D rectangle of specific dimentions in front of the camera, parallel to the image plane, as a set of 3D points expressed in homogeneous coordinates (therefore, each point is 4-dimensional). Their coordinates are expressed in the coordinate frame of the camera (which coincides with the world)\n",
    "\n",
    "z = 0.3\n",
    "rec_dim = 0.1\n",
    "npts = 1000\n",
    "\n",
    "rectangle = []\n",
    "rectangle += [[-rec_dim/2 + (rec_dim*i)/npts, -rec_dim/2, z, 1.] for i in range(0, npts)] # Append upper edge\n",
    "rectangle += [[rec_dim/2, -rec_dim/2 + (rec_dim*i)/npts, z, 1.] for i in range(0, npts)] # Append right rectangle\n",
    "rectangle += [[rec_dim/2 - (rec_dim*i)/npts, rec_dim/2, z, 1.] for i in range(0, npts)] # Append lower edge\n",
    "rectangle += [[-rec_dim/2, rec_dim/2 - (rec_dim*i)/npts, z, 1.] for i in range(0, npts)] # Append left edge\n",
    "rectangle = np.array(rectangle).T # Change to numpy.array type and transpose\n",
    "###\n",
    "\n",
    "###\n",
    "# Generate an artificial 3D cube as 6 faces of the 3D rectangle\n",
    "new_face = cp.deepcopy(rectangle)\n",
    "new_face[2, :] += rec_dim\n",
    "half_cube = np.concatenate((rectangle, new_face), axis=1)\n",
    "half_cube[2, :] -= z\n",
    "\n",
    "half_cube_1 = cp.deepcopy(half_cube) # This should store the front and back face\n",
    "\n",
    "half_cube[2, :] -= (rec_dim/2) # Translating to the center of origin in order to apply rotation around the centroid of the points\n",
    "\n",
    "r = Rot.from_euler('xyz', [0.0, np.pi/2, 0]) # Specify the desired rotation as a sequence of 3 Euler angles\n",
    "rot_matrix = r.as_dcm() # Obtain the corresponding 3x3 rotation matrix\n",
    "hom_rot_matrix = np.eye(4)\n",
    "hom_rot_matrix[:3, :3] = rot_matrix\n",
    "\n",
    "half_cube_2 = np.matmul(hom_rot_matrix, half_cube) # Apply rotation\n",
    "half_cube_2[2, :] += (rec_dim/2) # Restore points to their original translation. This should store the left and right cube faces\n",
    "\n",
    "cube = np.concatenate((half_cube_1, half_cube_2), axis=1)\n",
    "###"
   ]
  },
  {
   "cell_type": "code",
   "execution_count": 107,
   "metadata": {},
   "outputs": [],
   "source": [
    "A = np.array([[F, 0, Cx,0],[0, F, Cy,0],[0,0,1,0]])"
   ]
  },
  {
   "cell_type": "code",
   "execution_count": 108,
   "metadata": {},
   "outputs": [],
   "source": [
    "projected_rectangle = np.dot(A,rectangle)"
   ]
  },
  {
   "cell_type": "code",
   "execution_count": 109,
   "metadata": {},
   "outputs": [],
   "source": [
    "projected_rectangle = projected_rectangle[0:2,:]/projected_rectangle[2,1]"
   ]
  },
  {
   "cell_type": "code",
   "execution_count": 110,
   "metadata": {},
   "outputs": [
    {
     "data": {
      "image/png": "[encoded data removed]",
      "text/plain": [
       "<Figure size 432x288 with 1 Axes>"
      ]
     },
     "metadata": {},
     "output_type": "display_data"
    }
   ],
   "source": [
    "plt.scatter(projected_rectangle[0,:],projected_rectangle[1,:])\n",
    "plt.xlim([0,1000])\n",
    "plt.ylim([0,1000])\n",
    "plt.show()"
   ]
  },
  {
   "cell_type": "markdown",
   "metadata": {},
   "source": [
    "## Alternate the focal length"
   ]
  },
  {
   "cell_type": "markdown",
   "metadata": {},
   "source": [
    "### We double the focal length"
   ]
  },
  {
   "cell_type": "code",
   "execution_count": 111,
   "metadata": {},
   "outputs": [],
   "source": [
    "A = np.array([[2*F, 0, Cx,0],[0, 2*F, Cy,0],[0,0,1,0]])"
   ]
  },
  {
   "cell_type": "code",
   "execution_count": 112,
   "metadata": {},
   "outputs": [],
   "source": [
    "projected_rectangle = np.dot(A,rectangle)\n",
    "projected_rectangle = projected_rectangle[0:2,:]/projected_rectangle[2,1]"
   ]
  },
  {
   "cell_type": "code",
   "execution_count": 113,
   "metadata": {},
   "outputs": [
    {
     "data": {
      "image/png": "[encoded data removed]",
      "text/plain": [
       "<Figure size 432x288 with 1 Axes>"
      ]
     },
     "metadata": {},
     "output_type": "display_data"
    }
   ],
   "source": [
    "plt.scatter(projected_rectangle[0,:],projected_rectangle[1,:])\n",
    "plt.xlim([0,1000])\n",
    "plt.ylim([0,1000])\n",
    "plt.show()"
   ]
  },
  {
   "cell_type": "markdown",
   "metadata": {},
   "source": [
    "### We divide the focal length by two"
   ]
  },
  {
   "cell_type": "code",
   "execution_count": 114,
   "metadata": {},
   "outputs": [],
   "source": [
    "A = np.array([[F/2, 0, Cx,0],[0, F/2, Cy,0],[0,0,1,0]])"
   ]
  },
  {
   "cell_type": "code",
   "execution_count": 115,
   "metadata": {},
   "outputs": [],
   "source": [
    "projected_rectangle = np.dot(A,rectangle)\n",
    "projected_rectangle = projected_rectangle[0:2,:]/projected_rectangle[2,1]"
   ]
  },
  {
   "cell_type": "code",
   "execution_count": 116,
   "metadata": {},
   "outputs": [
    {
     "data": {
      "image/png": "[encoded data removed]",
      "text/plain": [
       "<Figure size 432x288 with 1 Axes>"
      ]
     },
     "metadata": {},
     "output_type": "display_data"
    }
   ],
   "source": [
    "plt.scatter(projected_rectangle[0,:],projected_rectangle[1,:])\n",
    "plt.xlim([0,1000])\n",
    "plt.ylim([0,1000])\n",
    "plt.show()"
   ]
  },
  {
   "cell_type": "markdown",
   "metadata": {},
   "source": [
    "## Projection after changing of camera coordinates"
   ]
  },
  {
   "cell_type": "code",
   "execution_count": 124,
   "metadata": {},
   "outputs": [],
   "source": [
    "R = np.array([[0.92387953, 0., 0.38268343],[0., 1., 0.],[-0.38268343, 0., 0.92387953]])\n",
    "t = np.array([0.,0.,-0.2])"
   ]
  },
  {
   "cell_type": "code",
   "execution_count": 140,
   "metadata": {},
   "outputs": [],
   "source": [
    "B = np.concatenate((np.transpose(R),-np.dot(np.transpose(R),t).reshape(3,1)),axis=1)"
   ]
  },
  {
   "cell_type": "code",
   "execution_count": 150,
   "metadata": {},
   "outputs": [],
   "source": [
    "A = np.array([[F, 0, Cx],[0, F, Cy],[0,0,1]])"
   ]
  },
  {
   "cell_type": "code",
   "execution_count": 153,
   "metadata": {},
   "outputs": [],
   "source": [
    "projected_cube = np.dot(np.dot(A,B),cube)\n",
    "projected_cube = projected_cube[0:2,:]/projected_cube[2,:]"
   ]
  },
  {
   "cell_type": "code",
   "execution_count": 154,
   "metadata": {},
   "outputs": [
    {
     "data": {
      "image/png": "[encoded data removed]",
      "text/plain": [
       "<Figure size 432x288 with 1 Axes>"
      ]
     },
     "metadata": {},
     "output_type": "display_data"
    }
   ],
   "source": [
    "plt.scatter(projected_cube[0,:],projected_cube[1,:])\n",
    "plt.show()"
   ]
  }
 ],
 "metadata": {
  "kernelspec": {
   "display_name": "Python 3",
   "language": "python",
   "name": "python3"
  },
  "language_info": {
   "codemirror_mode": {
    "name": "ipython",
    "version": 3
   },
   "file_extension": ".py",
   "mimetype": "text/x-python",
   "name": "python",
   "nbconvert_exporter": "python",
   "pygments_lexer": "ipython3",
   "version": "3.6.9"
  }
 },
 "nbformat": 4,
 "nbformat_minor": 2
}
